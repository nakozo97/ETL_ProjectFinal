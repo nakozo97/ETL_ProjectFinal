{
 "cells": [
  {
   "cell_type": "markdown",
   "metadata": {},
   "source": [
    "# FIFA World Cup 2022 Bidding Committee: \n",
    "# Predicting the 2030 World Cup Host - An ETL Project"
   ]
  },
  {
   "cell_type": "markdown",
   "metadata": {},
   "source": [
    "## Team:\n",
    "✰ Isaac Perez\n",
    "✰ Michelle Risucci\n",
    "✰ Alex Reyes"
   ]
  },
  {
   "cell_type": "markdown",
   "metadata": {},
   "source": [
    "## Background\n",
    "\n",
    "We are apart of the FIFA Data Team who is currently compiling data to help evaluate the 2030 FIFA World Cup bidding process. The FIFA World Cup is an international football tournament contested by the senior men's national teams from the FIFA governing body.\n",
    "\n",
    "There are currently a few proposed \"host bids\" from multiple European and South American countries at this time but our FIFA Data Team would like to evaluate other potential host candidates who have not officially submitted bids. Our ETL project hopes to use the FIFA World Team Rankings and the World Happiness Reports from 2015-2019 to aid the 2022 FIFA World Cup bidding committee in evaluating potential host candidates. The following dataset pieces will be analyzed: GDP per capita, Social Support, Perceptions of Corruption, International FIFA Rankings, and Overall citizen \"Happiness\" rank. "
   ]
  },
  {
   "cell_type": "markdown",
   "metadata": {},
   "source": [
    "## Objective\n",
    "The 2022 FIFA World Cup Committee would ideally like to select a host country that has a strong supportive economy, a good ranked football team, and a good group of \"Happy\" football fans. Our group's project data aims to meet all those goals."
   ]
  },
  {
   "cell_type": "markdown",
   "metadata": {},
   "source": [
    "## Extract"
   ]
  },
  {
   "cell_type": "markdown",
   "metadata": {},
   "source": [
    "Our team used two different datasets from <www.Kaggle.com>. These two dataset links are located below:\n",
    "\n",
    "\"FIFA World Ranking 1992-2020\" https://www.kaggle.com/cashncarry/fifaworldranking\n",
    "\n",
    "\"World Happiness Report up to 2020\" https://www.kaggle.com/mathurinache/world-happiness-report"
   ]
  },
  {
   "cell_type": "markdown",
   "metadata": {},
   "source": [
    "## Transform"
   ]
  },
  {
   "cell_type": "markdown",
   "metadata": {},
   "source": [
    "#### FIFA World Ranking 1992-2020 Data Cleaning:\n",
    "\n",
    "* Dependencies: pandas / numpy / datetime\n",
    "* Imported \"data/fifa_ranking_2020_11_26.csv\" from /data folder. \n",
    "* Extracted useful columns from original .csv. \n",
    "* Cleaned up data from 2015 to 2019 via the .loc method. \n",
    "* Identified unique countries and confederations. \n",
    "* Grouped international football teams by confederation via the groupby method.\n",
    "* Developed a function to calculate the average FIFA World Ranking (2015-2019) by Confederation.\n",
    "* Developed a function to calculate the average FIFA World Ranking (2015-2019) by Country.\n",
    "* Converted new dataframe to \"data/fifa_data_clean.csv\" in the /data folder. "
   ]
  },
  {
   "cell_type": "code",
   "execution_count": 1,
   "metadata": {},
   "outputs": [],
   "source": [
    "# Dependencies\n",
    "\n",
    "import pandas as pd\n",
    "import numpy as np\n",
    "import datetime as dt\n",
    "import os\n",
    "import glob"
   ]
  },
  {
   "cell_type": "code",
   "execution_count": 2,
   "metadata": {},
   "outputs": [
    {
     "data": {
      "text/html": [
       "<div>\n",
       "<style scoped>\n",
       "    .dataframe tbody tr th:only-of-type {\n",
       "        vertical-align: middle;\n",
       "    }\n",
       "\n",
       "    .dataframe tbody tr th {\n",
       "        vertical-align: top;\n",
       "    }\n",
       "\n",
       "    .dataframe thead th {\n",
       "        text-align: right;\n",
       "    }\n",
       "</style>\n",
       "<table border=\"1\" class=\"dataframe\">\n",
       "  <thead>\n",
       "    <tr style=\"text-align: right;\">\n",
       "      <th></th>\n",
       "      <th>id</th>\n",
       "      <th>rank</th>\n",
       "      <th>country_full</th>\n",
       "      <th>country_abrv</th>\n",
       "      <th>total_points</th>\n",
       "      <th>previous_points</th>\n",
       "      <th>rank_change</th>\n",
       "      <th>confederation</th>\n",
       "      <th>rank_date</th>\n",
       "    </tr>\n",
       "  </thead>\n",
       "  <tbody>\n",
       "    <tr>\n",
       "      <th>0</th>\n",
       "      <td>43948</td>\n",
       "      <td>1</td>\n",
       "      <td>Germany</td>\n",
       "      <td>GER</td>\n",
       "      <td>57</td>\n",
       "      <td>0</td>\n",
       "      <td>0</td>\n",
       "      <td>UEFA</td>\n",
       "      <td>1992-12-31</td>\n",
       "    </tr>\n",
       "    <tr>\n",
       "      <th>1</th>\n",
       "      <td>43873</td>\n",
       "      <td>107</td>\n",
       "      <td>Mozambique</td>\n",
       "      <td>MOZ</td>\n",
       "      <td>9</td>\n",
       "      <td>0</td>\n",
       "      <td>0</td>\n",
       "      <td>CAF</td>\n",
       "      <td>1992-12-31</td>\n",
       "    </tr>\n",
       "    <tr>\n",
       "      <th>2</th>\n",
       "      <td>43816</td>\n",
       "      <td>108</td>\n",
       "      <td>Indonesia</td>\n",
       "      <td>IDN</td>\n",
       "      <td>9</td>\n",
       "      <td>0</td>\n",
       "      <td>0</td>\n",
       "      <td>AFC</td>\n",
       "      <td>1992-12-31</td>\n",
       "    </tr>\n",
       "    <tr>\n",
       "      <th>3</th>\n",
       "      <td>1882218</td>\n",
       "      <td>109</td>\n",
       "      <td>Antigua and Barbuda</td>\n",
       "      <td>ATG</td>\n",
       "      <td>8</td>\n",
       "      <td>0</td>\n",
       "      <td>0</td>\n",
       "      <td>CONCACAF</td>\n",
       "      <td>1992-12-31</td>\n",
       "    </tr>\n",
       "    <tr>\n",
       "      <th>4</th>\n",
       "      <td>43820</td>\n",
       "      <td>110</td>\n",
       "      <td>Jordan</td>\n",
       "      <td>JOR</td>\n",
       "      <td>8</td>\n",
       "      <td>0</td>\n",
       "      <td>0</td>\n",
       "      <td>AFC</td>\n",
       "      <td>1992-12-31</td>\n",
       "    </tr>\n",
       "  </tbody>\n",
       "</table>\n",
       "</div>"
      ],
      "text/plain": [
       "        id  rank         country_full country_abrv  total_points  \\\n",
       "0    43948     1              Germany          GER            57   \n",
       "1    43873   107           Mozambique          MOZ             9   \n",
       "2    43816   108            Indonesia          IDN             9   \n",
       "3  1882218   109  Antigua and Barbuda          ATG             8   \n",
       "4    43820   110               Jordan          JOR             8   \n",
       "\n",
       "   previous_points  rank_change confederation   rank_date  \n",
       "0                0            0          UEFA  1992-12-31  \n",
       "1                0            0           CAF  1992-12-31  \n",
       "2                0            0           AFC  1992-12-31  \n",
       "3                0            0      CONCACAF  1992-12-31  \n",
       "4                0            0           AFC  1992-12-31  "
      ]
     },
     "execution_count": 2,
     "metadata": {},
     "output_type": "execute_result"
    }
   ],
   "source": [
    "# Read in the csv using pandas\n",
    "\n",
    "fifa_csv = \"FIFA/data/fifa_ranking_2020_11_26.csv\"\n",
    "fifa_df = pd.read_csv(fifa_csv)\n",
    "fifa_df.head()"
   ]
  },
  {
   "cell_type": "code",
   "execution_count": 3,
   "metadata": {},
   "outputs": [
    {
     "data": {
      "text/plain": [
       "Index(['id', 'rank', 'country_full', 'country_abrv', 'total_points',\n",
       "       'previous_points', 'rank_change', 'confederation', 'rank_date'],\n",
       "      dtype='object')"
      ]
     },
     "execution_count": 3,
     "metadata": {},
     "output_type": "execute_result"
    }
   ],
   "source": [
    "# Drop rows with any empty cells\n",
    "\n",
    "fifa_df.dropna(\n",
    "    axis=0,\n",
    "    how='any',\n",
    "    thresh=None,\n",
    "    subset=None,\n",
    "    inplace=True)\n",
    "fifa_df.columns"
   ]
  },
  {
   "cell_type": "code",
   "execution_count": 4,
   "metadata": {},
   "outputs": [
    {
     "data": {
      "text/html": [
       "<div>\n",
       "<style scoped>\n",
       "    .dataframe tbody tr th:only-of-type {\n",
       "        vertical-align: middle;\n",
       "    }\n",
       "\n",
       "    .dataframe tbody tr th {\n",
       "        vertical-align: top;\n",
       "    }\n",
       "\n",
       "    .dataframe thead th {\n",
       "        text-align: right;\n",
       "    }\n",
       "</style>\n",
       "<table border=\"1\" class=\"dataframe\">\n",
       "  <thead>\n",
       "    <tr style=\"text-align: right;\">\n",
       "      <th></th>\n",
       "      <th>id</th>\n",
       "      <th>rank</th>\n",
       "      <th>country_full</th>\n",
       "      <th>confederation</th>\n",
       "      <th>rank_date</th>\n",
       "    </tr>\n",
       "  </thead>\n",
       "  <tbody>\n",
       "    <tr>\n",
       "      <th>0</th>\n",
       "      <td>43948</td>\n",
       "      <td>1</td>\n",
       "      <td>Germany</td>\n",
       "      <td>UEFA</td>\n",
       "      <td>1992-12-31</td>\n",
       "    </tr>\n",
       "    <tr>\n",
       "      <th>1</th>\n",
       "      <td>43873</td>\n",
       "      <td>107</td>\n",
       "      <td>Mozambique</td>\n",
       "      <td>CAF</td>\n",
       "      <td>1992-12-31</td>\n",
       "    </tr>\n",
       "    <tr>\n",
       "      <th>2</th>\n",
       "      <td>43816</td>\n",
       "      <td>108</td>\n",
       "      <td>Indonesia</td>\n",
       "      <td>AFC</td>\n",
       "      <td>1992-12-31</td>\n",
       "    </tr>\n",
       "    <tr>\n",
       "      <th>3</th>\n",
       "      <td>1882218</td>\n",
       "      <td>109</td>\n",
       "      <td>Antigua and Barbuda</td>\n",
       "      <td>CONCACAF</td>\n",
       "      <td>1992-12-31</td>\n",
       "    </tr>\n",
       "    <tr>\n",
       "      <th>4</th>\n",
       "      <td>43820</td>\n",
       "      <td>110</td>\n",
       "      <td>Jordan</td>\n",
       "      <td>AFC</td>\n",
       "      <td>1992-12-31</td>\n",
       "    </tr>\n",
       "  </tbody>\n",
       "</table>\n",
       "</div>"
      ],
      "text/plain": [
       "        id  rank         country_full confederation   rank_date\n",
       "0    43948     1              Germany          UEFA  1992-12-31\n",
       "1    43873   107           Mozambique           CAF  1992-12-31\n",
       "2    43816   108            Indonesia           AFC  1992-12-31\n",
       "3  1882218   109  Antigua and Barbuda      CONCACAF  1992-12-31\n",
       "4    43820   110               Jordan           AFC  1992-12-31"
      ]
     },
     "execution_count": 4,
     "metadata": {},
     "output_type": "execute_result"
    }
   ],
   "source": [
    "# Extract the following columns: \"id\", \"rank\", \"country_full\", \"confederation\", \"rank_date\"\n",
    "\n",
    "fifa_data_df = fifa_df[[\"id\", \"rank\", \"country_full\", \"confederation\", \"rank_date\"]]\n",
    "fifa_data_df.head()"
   ]
  },
  {
   "cell_type": "code",
   "execution_count": 5,
   "metadata": {},
   "outputs": [
    {
     "data": {
      "text/html": [
       "<div>\n",
       "<style scoped>\n",
       "    .dataframe tbody tr th:only-of-type {\n",
       "        vertical-align: middle;\n",
       "    }\n",
       "\n",
       "    .dataframe tbody tr th {\n",
       "        vertical-align: top;\n",
       "    }\n",
       "\n",
       "    .dataframe thead th {\n",
       "        text-align: right;\n",
       "    }\n",
       "</style>\n",
       "<table border=\"1\" class=\"dataframe\">\n",
       "  <thead>\n",
       "    <tr style=\"text-align: right;\">\n",
       "      <th></th>\n",
       "      <th>id</th>\n",
       "      <th>rank</th>\n",
       "      <th>country_full</th>\n",
       "      <th>confederation</th>\n",
       "      <th>rank_date</th>\n",
       "    </tr>\n",
       "  </thead>\n",
       "  <tbody>\n",
       "    <tr>\n",
       "      <th>48970</th>\n",
       "      <td>43961</td>\n",
       "      <td>67</td>\n",
       "      <td>Norway</td>\n",
       "      <td>UEFA</td>\n",
       "      <td>2015-01-08</td>\n",
       "    </tr>\n",
       "    <tr>\n",
       "      <th>48971</th>\n",
       "      <td>43910</td>\n",
       "      <td>75</td>\n",
       "      <td>Jamaica</td>\n",
       "      <td>CONCACAF</td>\n",
       "      <td>2015-01-08</td>\n",
       "    </tr>\n",
       "    <tr>\n",
       "      <th>48972</th>\n",
       "      <td>43908</td>\n",
       "      <td>73</td>\n",
       "      <td>Haiti</td>\n",
       "      <td>CONCACAF</td>\n",
       "      <td>2015-01-08</td>\n",
       "    </tr>\n",
       "    <tr>\n",
       "      <th>48973</th>\n",
       "      <td>43906</td>\n",
       "      <td>73</td>\n",
       "      <td>Guatemala</td>\n",
       "      <td>CONCACAF</td>\n",
       "      <td>2015-01-08</td>\n",
       "    </tr>\n",
       "    <tr>\n",
       "      <th>48974</th>\n",
       "      <td>43909</td>\n",
       "      <td>72</td>\n",
       "      <td>Honduras</td>\n",
       "      <td>CONCACAF</td>\n",
       "      <td>2015-01-08</td>\n",
       "    </tr>\n",
       "    <tr>\n",
       "      <th>...</th>\n",
       "      <td>...</td>\n",
       "      <td>...</td>\n",
       "      <td>...</td>\n",
       "      <td>...</td>\n",
       "      <td>...</td>\n",
       "    </tr>\n",
       "    <tr>\n",
       "      <th>62209</th>\n",
       "      <td>1930407</td>\n",
       "      <td>76</td>\n",
       "      <td>Curaçao</td>\n",
       "      <td>CONCACAF</td>\n",
       "      <td>2020-11-26</td>\n",
       "    </tr>\n",
       "    <tr>\n",
       "      <th>62210</th>\n",
       "      <td>43914</td>\n",
       "      <td>78</td>\n",
       "      <td>Panama</td>\n",
       "      <td>CONCACAF</td>\n",
       "      <td>2020-11-26</td>\n",
       "    </tr>\n",
       "    <tr>\n",
       "      <th>62211</th>\n",
       "      <td>43889</td>\n",
       "      <td>79</td>\n",
       "      <td>Uganda</td>\n",
       "      <td>CAF</td>\n",
       "      <td>2020-11-26</td>\n",
       "    </tr>\n",
       "    <tr>\n",
       "      <th>62212</th>\n",
       "      <td>43850</td>\n",
       "      <td>81</td>\n",
       "      <td>Cabo Verde</td>\n",
       "      <td>CAF</td>\n",
       "      <td>2020-11-26</td>\n",
       "    </tr>\n",
       "    <tr>\n",
       "      <th>62213</th>\n",
       "      <td>43945</td>\n",
       "      <td>54</td>\n",
       "      <td>Finland</td>\n",
       "      <td>UEFA</td>\n",
       "      <td>2020-11-26</td>\n",
       "    </tr>\n",
       "  </tbody>\n",
       "</table>\n",
       "<p>13244 rows × 5 columns</p>\n",
       "</div>"
      ],
      "text/plain": [
       "            id  rank country_full confederation   rank_date\n",
       "48970    43961    67       Norway          UEFA  2015-01-08\n",
       "48971    43910    75      Jamaica      CONCACAF  2015-01-08\n",
       "48972    43908    73        Haiti      CONCACAF  2015-01-08\n",
       "48973    43906    73    Guatemala      CONCACAF  2015-01-08\n",
       "48974    43909    72     Honduras      CONCACAF  2015-01-08\n",
       "...        ...   ...          ...           ...         ...\n",
       "62209  1930407    76      Curaçao      CONCACAF  2020-11-26\n",
       "62210    43914    78       Panama      CONCACAF  2020-11-26\n",
       "62211    43889    79       Uganda           CAF  2020-11-26\n",
       "62212    43850    81   Cabo Verde           CAF  2020-11-26\n",
       "62213    43945    54      Finland          UEFA  2020-11-26\n",
       "\n",
       "[13244 rows x 5 columns]"
      ]
     },
     "execution_count": 5,
     "metadata": {},
     "output_type": "execute_result"
    }
   ],
   "source": [
    "# Clean up data from > 2015\n",
    "\n",
    "fifa_data_clean2015 = fifa_data_df.loc[fifa_data_df[\"rank_date\"] >= \"2015-01-01\", :]\n",
    "fifa_data_clean2015"
   ]
  },
  {
   "cell_type": "code",
   "execution_count": 6,
   "metadata": {},
   "outputs": [
    {
     "data": {
      "text/html": [
       "<div>\n",
       "<style scoped>\n",
       "    .dataframe tbody tr th:only-of-type {\n",
       "        vertical-align: middle;\n",
       "    }\n",
       "\n",
       "    .dataframe tbody tr th {\n",
       "        vertical-align: top;\n",
       "    }\n",
       "\n",
       "    .dataframe thead th {\n",
       "        text-align: right;\n",
       "    }\n",
       "</style>\n",
       "<table border=\"1\" class=\"dataframe\">\n",
       "  <thead>\n",
       "    <tr style=\"text-align: right;\">\n",
       "      <th></th>\n",
       "      <th>id</th>\n",
       "      <th>rank</th>\n",
       "      <th>country_full</th>\n",
       "      <th>confederation</th>\n",
       "      <th>rank_date</th>\n",
       "    </tr>\n",
       "  </thead>\n",
       "  <tbody>\n",
       "    <tr>\n",
       "      <th>48970</th>\n",
       "      <td>43961</td>\n",
       "      <td>67</td>\n",
       "      <td>Norway</td>\n",
       "      <td>UEFA</td>\n",
       "      <td>2015-01-08</td>\n",
       "    </tr>\n",
       "    <tr>\n",
       "      <th>48971</th>\n",
       "      <td>43910</td>\n",
       "      <td>75</td>\n",
       "      <td>Jamaica</td>\n",
       "      <td>CONCACAF</td>\n",
       "      <td>2015-01-08</td>\n",
       "    </tr>\n",
       "    <tr>\n",
       "      <th>48972</th>\n",
       "      <td>43908</td>\n",
       "      <td>73</td>\n",
       "      <td>Haiti</td>\n",
       "      <td>CONCACAF</td>\n",
       "      <td>2015-01-08</td>\n",
       "    </tr>\n",
       "    <tr>\n",
       "      <th>48973</th>\n",
       "      <td>43906</td>\n",
       "      <td>73</td>\n",
       "      <td>Guatemala</td>\n",
       "      <td>CONCACAF</td>\n",
       "      <td>2015-01-08</td>\n",
       "    </tr>\n",
       "    <tr>\n",
       "      <th>48974</th>\n",
       "      <td>43909</td>\n",
       "      <td>72</td>\n",
       "      <td>Honduras</td>\n",
       "      <td>CONCACAF</td>\n",
       "      <td>2015-01-08</td>\n",
       "    </tr>\n",
       "    <tr>\n",
       "      <th>...</th>\n",
       "      <td>...</td>\n",
       "      <td>...</td>\n",
       "      <td>...</td>\n",
       "      <td>...</td>\n",
       "      <td>...</td>\n",
       "    </tr>\n",
       "    <tr>\n",
       "      <th>60739</th>\n",
       "      <td>43814</td>\n",
       "      <td>141</td>\n",
       "      <td>Hong Kong</td>\n",
       "      <td>AFC</td>\n",
       "      <td>2019-12-19</td>\n",
       "    </tr>\n",
       "    <tr>\n",
       "      <th>60740</th>\n",
       "      <td>43919</td>\n",
       "      <td>141</td>\n",
       "      <td>Suriname</td>\n",
       "      <td>CONCACAF</td>\n",
       "      <td>2019-12-19</td>\n",
       "    </tr>\n",
       "    <tr>\n",
       "      <th>60741</th>\n",
       "      <td>43980</td>\n",
       "      <td>141</td>\n",
       "      <td>Solomon Islands</td>\n",
       "      <td>OFC</td>\n",
       "      <td>2019-12-19</td>\n",
       "    </tr>\n",
       "    <tr>\n",
       "      <th>60742</th>\n",
       "      <td>43842</td>\n",
       "      <td>144</td>\n",
       "      <td>Yemen</td>\n",
       "      <td>AFC</td>\n",
       "      <td>2019-12-19</td>\n",
       "    </tr>\n",
       "    <tr>\n",
       "      <th>60743</th>\n",
       "      <td>43916</td>\n",
       "      <td>139</td>\n",
       "      <td>St. Kitts and Nevis</td>\n",
       "      <td>CONCACAF</td>\n",
       "      <td>2019-12-19</td>\n",
       "    </tr>\n",
       "  </tbody>\n",
       "</table>\n",
       "<p>11774 rows × 5 columns</p>\n",
       "</div>"
      ],
      "text/plain": [
       "          id  rank         country_full confederation   rank_date\n",
       "48970  43961    67               Norway          UEFA  2015-01-08\n",
       "48971  43910    75              Jamaica      CONCACAF  2015-01-08\n",
       "48972  43908    73                Haiti      CONCACAF  2015-01-08\n",
       "48973  43906    73            Guatemala      CONCACAF  2015-01-08\n",
       "48974  43909    72             Honduras      CONCACAF  2015-01-08\n",
       "...      ...   ...                  ...           ...         ...\n",
       "60739  43814   141            Hong Kong           AFC  2019-12-19\n",
       "60740  43919   141             Suriname      CONCACAF  2019-12-19\n",
       "60741  43980   141      Solomon Islands           OFC  2019-12-19\n",
       "60742  43842   144                Yemen           AFC  2019-12-19\n",
       "60743  43916   139  St. Kitts and Nevis      CONCACAF  2019-12-19\n",
       "\n",
       "[11774 rows x 5 columns]"
      ]
     },
     "execution_count": 6,
     "metadata": {},
     "output_type": "execute_result"
    }
   ],
   "source": [
    "# Clean up data from < 2019\n",
    "\n",
    "fifa_data_clean = fifa_data_clean2015.loc[fifa_data_clean2015[\"rank_date\"] <= \"2019-12-31\", :]\n",
    "fifa_data_clean"
   ]
  },
  {
   "cell_type": "code",
   "execution_count": 7,
   "metadata": {},
   "outputs": [
    {
     "name": "stdout",
     "output_type": "stream",
     "text": [
      " The number of potential countries to host the event are: 211.\n"
     ]
    }
   ],
   "source": [
    "# Find FIFA unique countries on the list\n",
    "\n",
    "country_count = len(fifa_data_clean[\"country_full\"].unique())\n",
    "print(f\" The number of potential countries to host the event are: {country_count}.\")"
   ]
  },
  {
   "cell_type": "code",
   "execution_count": 8,
   "metadata": {},
   "outputs": [
    {
     "name": "stdout",
     "output_type": "stream",
     "text": [
      " There are currently 211 FIFA ranked countries in our dataset.\n"
     ]
    }
   ],
   "source": [
    "# Fifa rank goes from 1-211 in some instances, verified in Excel\n",
    "\n",
    "rank_count = len(fifa_data_clean[\"rank\"].unique())\n",
    "print(f\" There are currently {rank_count} FIFA ranked countries in our dataset.\")"
   ]
  },
  {
   "cell_type": "code",
   "execution_count": 9,
   "metadata": {},
   "outputs": [
    {
     "name": "stdout",
     "output_type": "stream",
     "text": [
      " There are currently 6 FIFA Confederations in the FIFA governing body.\n"
     ]
    }
   ],
   "source": [
    "# Number of confederations in Fifa World Rankings\n",
    "\n",
    "confederation_count = len(fifa_data_clean[\"confederation\"].unique())\n",
    "print(f\" There are currently {confederation_count} FIFA Confederations in the FIFA governing body.\")"
   ]
  },
  {
   "cell_type": "code",
   "execution_count": 10,
   "metadata": {},
   "outputs": [
    {
     "data": {
      "text/plain": [
       "country_full\n",
       "Afghanistan       1\n",
       "Albania           1\n",
       "Algeria           1\n",
       "American Samoa    1\n",
       "Andorra           1\n",
       "                 ..\n",
       "Vietnam           1\n",
       "Wales             1\n",
       "Yemen             1\n",
       "Zambia            1\n",
       "Zimbabwe          1\n",
       "Name: country_full, Length: 211, dtype: int64"
      ]
     },
     "execution_count": 10,
     "metadata": {},
     "output_type": "execute_result"
    }
   ],
   "source": [
    "# Name & Count of every potential \"host\" country that's been listed into the database.\n",
    "\n",
    "df_country_groupby = fifa_data_clean.groupby(\"country_full\")\n",
    "df_country_nunique = df_country_groupby[\"country_full\"].nunique()\n",
    "df_country_nunique"
   ]
  },
  {
   "cell_type": "markdown",
   "metadata": {},
   "source": [
    "##### Confederations\n",
    "* AFC - Asian Football Confederation \n",
    "* CAF - Confederation of African Football \n",
    "* CONCACAF - Confederation of North, Central America and Caribbean Association Football \n",
    "* CONMEBOL - South American Football Confederation \n",
    "* OFC - Oceania Football Confederation \n",
    "* UEFA - Union of European Football Associations"
   ]
  },
  {
   "cell_type": "code",
   "execution_count": 11,
   "metadata": {},
   "outputs": [
    {
     "data": {
      "text/html": [
       "<div>\n",
       "<style scoped>\n",
       "    .dataframe tbody tr th:only-of-type {\n",
       "        vertical-align: middle;\n",
       "    }\n",
       "\n",
       "    .dataframe tbody tr th {\n",
       "        vertical-align: top;\n",
       "    }\n",
       "\n",
       "    .dataframe thead th {\n",
       "        text-align: right;\n",
       "    }\n",
       "</style>\n",
       "<table border=\"1\" class=\"dataframe\">\n",
       "  <thead>\n",
       "    <tr style=\"text-align: right;\">\n",
       "      <th></th>\n",
       "      <th>id</th>\n",
       "      <th>rank</th>\n",
       "      <th>country_full</th>\n",
       "      <th>confederation</th>\n",
       "      <th>rank_date</th>\n",
       "    </tr>\n",
       "    <tr>\n",
       "      <th>confederation</th>\n",
       "      <th></th>\n",
       "      <th></th>\n",
       "      <th></th>\n",
       "      <th></th>\n",
       "      <th></th>\n",
       "    </tr>\n",
       "  </thead>\n",
       "  <tbody>\n",
       "    <tr>\n",
       "      <th>AFC</th>\n",
       "      <td>46</td>\n",
       "      <td>186</td>\n",
       "      <td>46</td>\n",
       "      <td>1</td>\n",
       "      <td>56</td>\n",
       "    </tr>\n",
       "    <tr>\n",
       "      <th>CAF</th>\n",
       "      <td>54</td>\n",
       "      <td>190</td>\n",
       "      <td>54</td>\n",
       "      <td>1</td>\n",
       "      <td>56</td>\n",
       "    </tr>\n",
       "    <tr>\n",
       "      <th>CONCACAF</th>\n",
       "      <td>35</td>\n",
       "      <td>200</td>\n",
       "      <td>35</td>\n",
       "      <td>1</td>\n",
       "      <td>56</td>\n",
       "    </tr>\n",
       "    <tr>\n",
       "      <th>CONMEBOL</th>\n",
       "      <td>10</td>\n",
       "      <td>88</td>\n",
       "      <td>10</td>\n",
       "      <td>1</td>\n",
       "      <td>56</td>\n",
       "    </tr>\n",
       "    <tr>\n",
       "      <th>OFC</th>\n",
       "      <td>11</td>\n",
       "      <td>89</td>\n",
       "      <td>11</td>\n",
       "      <td>1</td>\n",
       "      <td>56</td>\n",
       "    </tr>\n",
       "    <tr>\n",
       "      <th>UEFA</th>\n",
       "      <td>55</td>\n",
       "      <td>205</td>\n",
       "      <td>55</td>\n",
       "      <td>1</td>\n",
       "      <td>56</td>\n",
       "    </tr>\n",
       "  </tbody>\n",
       "</table>\n",
       "</div>"
      ],
      "text/plain": [
       "               id  rank  country_full  confederation  rank_date\n",
       "confederation                                                  \n",
       "AFC            46   186            46              1         56\n",
       "CAF            54   190            54              1         56\n",
       "CONCACAF       35   200            35              1         56\n",
       "CONMEBOL       10    88            10              1         56\n",
       "OFC            11    89            11              1         56\n",
       "UEFA           55   205            55              1         56"
      ]
     },
     "execution_count": 11,
     "metadata": {},
     "output_type": "execute_result"
    }
   ],
   "source": [
    "# Number of national teams in each confederation. \n",
    "\n",
    "df_confederation_groupby = fifa_data_clean.groupby(\"confederation\")\n",
    "df_confederation_groupby.nunique()"
   ]
  },
  {
   "cell_type": "code",
   "execution_count": 12,
   "metadata": {},
   "outputs": [
    {
     "name": "stdout",
     "output_type": "stream",
     "text": [
      "AFC\n",
      "id      81921.760870\n",
      "rank      131.996506\n",
      "dtype: float64\n",
      "Number of Teams: 46\n",
      "----------\n",
      "CAF\n",
      "id      112328.796296\n",
      "rank       106.419643\n",
      "dtype: float64\n",
      "Number of Teams: 54\n",
      "----------\n",
      "CONCACAF\n",
      "id      200120.771429\n",
      "rank       132.582653\n",
      "dtype: float64\n",
      "Number of Teams: 35\n",
      "----------\n",
      "CONMEBOL\n",
      "id      43926.500000\n",
      "rank       27.467857\n",
      "dtype: float64\n",
      "Number of Teams: 10\n",
      "----------\n",
      "OFC\n",
      "id      207844.058824\n",
      "rank       174.774510\n",
      "dtype: float64\n",
      "Number of Teams: 11\n",
      "----------\n",
      "UEFA\n",
      "id      123117.298488\n",
      "rank        64.958580\n",
      "dtype: float64\n",
      "Number of Teams: 55\n",
      "----------\n"
     ]
    }
   ],
   "source": [
    "# Calculate the average FIFA World Ranking by Confederation\n",
    "\n",
    "df_AFC_average_rank = fifa_data_clean[fifa_data_clean[\"confederation\"] == \"AFC\"].mean()\n",
    "print(\"AFC\")\n",
    "print(df_AFC_average_rank)\n",
    "print(\"Number of Teams: 46\")\n",
    "print(\"----------\")\n",
    "\n",
    "df_CAF_average_rank = fifa_data_clean[fifa_data_clean[\"confederation\"] == \"CAF\"].mean()\n",
    "print(\"CAF\")\n",
    "print(df_CAF_average_rank)\n",
    "print(\"Number of Teams: 54\")\n",
    "print(\"----------\")\n",
    "\n",
    "df_CONCACAF_average_rank = fifa_data_clean[fifa_data_clean[\"confederation\"] == \"CONCACAF\"].mean()\n",
    "print(\"CONCACAF\")\n",
    "print(df_CONCACAF_average_rank)\n",
    "print(\"Number of Teams: 35\")\n",
    "print(\"----------\")\n",
    "\n",
    "df_CONMEBOL_average_rank = fifa_data_clean[fifa_data_clean[\"confederation\"] == \"CONMEBOL\"].mean()\n",
    "print(\"CONMEBOL\")\n",
    "print(df_CONMEBOL_average_rank)\n",
    "print(\"Number of Teams: 10\")\n",
    "print(\"----------\")\n",
    "\n",
    "df_OFC_average_rank = fifa_data_clean[fifa_data_clean[\"confederation\"] == \"OFC\"].mean()\n",
    "print(\"OFC\")\n",
    "print(df_OFC_average_rank)\n",
    "print(\"Number of Teams: 11\")\n",
    "print(\"----------\")\n",
    "\n",
    "df_UEFA_average_rank = fifa_data_clean[fifa_data_clean[\"confederation\"] == \"UEFA\"].mean()\n",
    "print(\"UEFA\")\n",
    "print(df_UEFA_average_rank);\n",
    "print(\"Number of Teams: 55\")\n",
    "print(\"----------\")"
   ]
  },
  {
   "cell_type": "code",
   "execution_count": 13,
   "metadata": {},
   "outputs": [
    {
     "name": "stdout",
     "output_type": "stream",
     "text": [
      "Russia 2018\n",
      "id      43965.000000\n",
      "rank       45.178571\n",
      "dtype: float64\n",
      "----------\n",
      "Brazil 2014\n",
      "id      43924.000000\n",
      "rank        3.785714\n",
      "dtype: float64\n",
      "----------\n",
      "South Africa 2010\n",
      "id      43883.000000\n",
      "rank       69.053571\n",
      "dtype: float64\n",
      "----------\n",
      "Germany 2006\n",
      "id      43948.000000\n",
      "rank        5.160714\n",
      "dtype: float64\n",
      "----------\n",
      "Japan 2002\n",
      "id      43819.000000\n",
      "rank       48.517857\n",
      "dtype: float64\n",
      "----------\n",
      "Korea Republic 2002\n",
      "id      43822.000000\n",
      "rank       50.142857\n",
      "dtype: float64\n",
      "----------\n",
      "France 1998\n",
      "id      43946.000000\n",
      "rank        9.517857\n",
      "dtype: float64\n",
      "----------\n",
      "USA 1994\n",
      "id      43921.000\n",
      "rank       26.625\n",
      "dtype: float64\n",
      "----------\n"
     ]
    }
   ],
   "source": [
    "# Calculate the average FIFA World Ranking by previous host countries. \n",
    "\n",
    "df_russia_average_rank = fifa_data_clean[fifa_data_clean[\"country_full\"] == \"Russia\"].mean()\n",
    "print(\"Russia 2018\")\n",
    "print(df_russia_average_rank)\n",
    "print(\"----------\")\n",
    "\n",
    "df_brazil_average_rank = fifa_data_clean[fifa_data_clean[\"country_full\"] == \"Brazil\"].mean()\n",
    "print(\"Brazil 2014\")\n",
    "print(df_brazil_average_rank)\n",
    "print(\"----------\")\n",
    "\n",
    "df_south_africa_average_rank = fifa_data_clean[fifa_data_clean[\"country_full\"] == \"South Africa\"].mean()\n",
    "print(\"South Africa 2010\")\n",
    "print(df_south_africa_average_rank)\n",
    "print(\"----------\")\n",
    "\n",
    "df_germany_average_rank = fifa_data_clean[fifa_data_clean[\"country_full\"] == \"Germany\"].mean()\n",
    "print(\"Germany 2006\")\n",
    "print(df_germany_average_rank)\n",
    "print(\"----------\")\n",
    "\n",
    "df_japan_average_rank = fifa_data_clean[fifa_data_clean[\"country_full\"] == \"Japan\"].mean()\n",
    "df_korea_republic_rank = fifa_data_clean[fifa_data_clean[\"country_full\"] == \"Korea Republic\"].mean()\n",
    "print(\"Japan 2002\")\n",
    "print(df_japan_average_rank)\n",
    "print(\"----------\")\n",
    "print(\"Korea Republic 2002\")\n",
    "print(df_korea_republic_rank)\n",
    "print(\"----------\")\n",
    "\n",
    "df_france_average_rank = fifa_data_clean[fifa_data_clean[\"country_full\"] == \"France\"].mean()\n",
    "print(\"France 1998\")\n",
    "print(df_france_average_rank)\n",
    "print(\"----------\")\n",
    "\n",
    "df_usa_average_rank = fifa_data_clean[fifa_data_clean[\"country_full\"] == \"USA\"].mean()\n",
    "print(\"USA 1994\")\n",
    "print(df_usa_average_rank)\n",
    "print(\"----------\")"
   ]
  },
  {
   "cell_type": "code",
   "execution_count": 15,
   "metadata": {},
   "outputs": [],
   "source": [
    "# Convert to .csv file\n",
    "fifa_data_clean = fifa_data_clean.to_csv(\"FIFA/data/fifa_data_clean2.csv\", index=True)"
   ]
  },
  {
   "cell_type": "markdown",
   "metadata": {},
   "source": [
    "#### World Happiness Report 2015-2019 Data Cleaning:\n",
    "\n",
    "* Dependencies: pandas / os / glob\n",
    "* Imported five happy_year.csv files from Happiness/Resources folder.\n",
    "* Extracted useful columns from the five original happy_year.csv files.\n",
    "* Cleaned up the data in each file by reorganizing and renaming columns.\n",
    "* Created a new dataframe with country and region to merge into three individual happy_year.csv files.\n",
    "* Evaluated the files for null values. \n",
    "* Eliminated all null values. \n",
    "* Converted new clean dataframes for each year and region dataframe into one dataframe \"Happiness/Happy_All_years.csv\"."
   ]
  },
  {
   "cell_type": "code",
   "execution_count": 19,
   "metadata": {},
   "outputs": [
    {
     "name": "stdout",
     "output_type": "stream",
     "text": [
      "Happiness/Resources/2019.csv\n",
      "Happiness/Resources/2018.csv\n",
      "Happiness/Resources/2015.csv\n",
      "Happiness/Resources/2016.csv\n",
      "Happiness/Resources/2017.csv\n"
     ]
    }
   ],
   "source": [
    "# Create loop to read in each csv file\n",
    "\n",
    "path = 'Happiness/Resources'\n",
    "filenames = glob.glob(path + \"/*.csv\")\n",
    "\n",
    "d = {}\n",
    "\n",
    "for filename in filenames:\n",
    "    d[filename] = pd.read_csv(filename)\n",
    "    print(filename)"
   ]
  },
  {
   "cell_type": "markdown",
   "metadata": {},
   "source": [
    "##### 2015"
   ]
  },
  {
   "cell_type": "code",
   "execution_count": 18,
   "metadata": {},
   "outputs": [
    {
     "ename": "KeyError",
     "evalue": "'Happiness/Resources/2015.csv'",
     "output_type": "error",
     "traceback": [
      "\u001b[0;31m---------------------------------------------------------------------------\u001b[0m",
      "\u001b[0;31mKeyError\u001b[0m                                  Traceback (most recent call last)",
      "\u001b[0;32m<ipython-input-18-b8816351eeed>\u001b[0m in \u001b[0;36m<module>\u001b[0;34m\u001b[0m\n\u001b[1;32m      1\u001b[0m \u001b[0;31m# Save df to unique variable and create a new dataframe with select columns\u001b[0m\u001b[0;34m\u001b[0m\u001b[0;34m\u001b[0m\u001b[0;34m\u001b[0m\u001b[0m\n\u001b[1;32m      2\u001b[0m \u001b[0;34m\u001b[0m\u001b[0m\n\u001b[0;32m----> 3\u001b[0;31m \u001b[0mdf_2015\u001b[0m \u001b[0;34m=\u001b[0m \u001b[0md\u001b[0m\u001b[0;34m[\u001b[0m\u001b[0;34m'Happiness/Resources/2015.csv'\u001b[0m\u001b[0;34m]\u001b[0m\u001b[0;34m\u001b[0m\u001b[0;34m\u001b[0m\u001b[0m\n\u001b[0m\u001b[1;32m      4\u001b[0m new_df_2015 = df_2015[['Country', 'Region', 'Happiness Rank', 'Happiness Score', 'Economy (GDP per Capita)', \n\u001b[1;32m      5\u001b[0m                        'Health (Life Expectancy)','Freedom', 'Trust (Government Corruption)', 'Generosity']].copy()\n",
      "\u001b[0;31mKeyError\u001b[0m: 'Happiness/Resources/2015.csv'"
     ]
    }
   ],
   "source": [
    "# Save df to unique variable and create a new dataframe with select columns\n",
    "\n",
    "df_2015 = d['Happiness/Resources/2015.csv']\n",
    "new_df_2015 = df_2015[['Country', 'Region', 'Happiness Rank', 'Happiness Score', 'Economy (GDP per Capita)', \n",
    "                       'Health (Life Expectancy)','Freedom', 'Trust (Government Corruption)', 'Generosity']].copy()\n",
    "new_df_2015.rename(columns = {'Country': \"country\", 'Region': \"region\", 'Happiness Rank': \"happiness rank\", \n",
    "                             'Happiness Score': \"happiness score\", 'Economy (GDP per Capita)': \"GDP\",\n",
    "                             'Health (Life Expectancy)': \"health - life expectancy\", 'Freedom':\"freedom\",\n",
    "                             'Trust (Government Corruption)': \"trust (govt corruption)\", 'Generosity': \"generosity\"}, inplace=True)\n",
    "new_df_2015.head()"
   ]
  },
  {
   "cell_type": "code",
   "execution_count": null,
   "metadata": {},
   "outputs": [],
   "source": [
    "# Search for missing values\n",
    "\n",
    "new_df_2015.isnull().values.any()"
   ]
  },
  {
   "cell_type": "code",
   "execution_count": null,
   "metadata": {},
   "outputs": [],
   "source": [
    "# Convert to .csv file\n",
    "\n",
    "new_df_2015.to_csv('happy_2015.csv', index=False)"
   ]
  },
  {
   "cell_type": "markdown",
   "metadata": {},
   "source": [
    "##### 2016"
   ]
  },
  {
   "cell_type": "code",
   "execution_count": null,
   "metadata": {},
   "outputs": [],
   "source": [
    "# Save df to unique variable and create a new dataframe with select columns\n",
    "\n",
    "df_2016 = d['Resources/2016.csv']\n",
    "new_df_2016 = df_2016[['Country', 'Region', 'Happiness Rank', 'Happiness Score', 'Economy (GDP per Capita)', \n",
    "                       'Health (Life Expectancy)','Freedom', 'Trust (Government Corruption)', 'Generosity']].copy()\n",
    "new_df_2016.rename(columns = {'Country': \"country\", 'Region': \"region\", 'Happiness Rank': \"happiness rank\", \n",
    "                             'Happiness Score': \"happiness score\", 'Economy (GDP per Capita)': \"GDP\",\n",
    "                             'Health (Life Expectancy)': \"health - life expectancy\", 'Freedom':\"freedom\",\n",
    "                             'Trust (Government Corruption)': \"trust (govt corruption)\", 'Generosity': \"generosity\"}, inplace=True)\n",
    "new_df_2016.head()"
   ]
  },
  {
   "cell_type": "code",
   "execution_count": null,
   "metadata": {},
   "outputs": [],
   "source": [
    "# Search for missing values\n",
    "\n",
    "new_df_2016.isnull().values.any()"
   ]
  },
  {
   "cell_type": "code",
   "execution_count": null,
   "metadata": {},
   "outputs": [],
   "source": [
    "# Convert to .csv file\n",
    "\n",
    "new_df_2016.to_csv('happy_2016.csv', index=False)"
   ]
  },
  {
   "cell_type": "code",
   "execution_count": null,
   "metadata": {},
   "outputs": [],
   "source": [
    "# Create country region dataframe and convert to .csv file\n",
    "\n",
    "region_df = new_df_2016[['country', 'region']].copy()\n",
    "region_df.sort_values(by=['country'], inplace=True)\n",
    "\n",
    "region_df.to_csv('happy_by_region', index=False)\n",
    "\n",
    "region_df.head()"
   ]
  },
  {
   "cell_type": "markdown",
   "metadata": {},
   "source": [
    "##### 2017"
   ]
  },
  {
   "cell_type": "code",
   "execution_count": null,
   "metadata": {},
   "outputs": [],
   "source": [
    "# Save df to unique variable and create a new dataframe with select columns\n",
    "\n",
    "df_2017 = d['Resources/2017.csv']\n",
    "df_17 = df_2017[['Country', 'Happiness.Rank', 'Happiness.Score', 'Economy..GDP.per.Capita.', \n",
    "                       'Health..Life.Expectancy.','Freedom', 'Trust..Government.Corruption.', 'Generosity']].copy()\n",
    "df_17.rename(columns = {'Country': \"country\", 'Happiness.Rank': \"happiness rank\", \n",
    "                             'Happiness.Score': \"happiness score\", 'Economy..GDP.per.Capita.': \"GDP\",\n",
    "                             'Health..Life.Expectancy.': \"health - life expectancy\", 'Freedom':\"freedom\",\n",
    "                             'Trust..Government.Corruption.': \"trust (govt corruption)\", 'Generosity': \"generosity\"}, inplace=True)\n",
    "df_17.head()"
   ]
  },
  {
   "cell_type": "code",
   "execution_count": null,
   "metadata": {},
   "outputs": [],
   "source": [
    "# Merge region_df on country for complete dataframe\n",
    "\n",
    "merge_17 = df_17.merge(region_df, on='country')\n",
    "\n",
    "\n",
    "# Create new dataframe and reindex columns\n",
    "\n",
    "column_names = ('country', 'region', 'happiness rank', 'happiness score', 'GDP',\n",
    "           'health - life expectancy', 'freedom', 'trust (govt corruption)',\n",
    "           'generosity')\n",
    "new_df_2017 = merge_17.reindex(columns=column_names)\n",
    "new_df_2017.head()"
   ]
  },
  {
   "cell_type": "code",
   "execution_count": null,
   "metadata": {},
   "outputs": [],
   "source": [
    "# Search for missing values \n",
    "\n",
    "new_df_2017.isnull().values.any()"
   ]
  },
  {
   "cell_type": "code",
   "execution_count": null,
   "metadata": {},
   "outputs": [],
   "source": [
    "# Convert to .csv file\n",
    "\n",
    "new_df_2017.to_csv('happy_2017.csv', index=False)"
   ]
  },
  {
   "cell_type": "markdown",
   "metadata": {},
   "source": [
    "##### 2018"
   ]
  },
  {
   "cell_type": "code",
   "execution_count": null,
   "metadata": {},
   "outputs": [],
   "source": [
    "# Save df to unique variable and create a new dataframe with select columns\n",
    "\n",
    "df_2018 = d['Resources/2018.csv']\n",
    "df_18 = df_2018[['Country or region', 'Overall rank', 'Score', 'GDP per capita', 'Healthy life expectancy',\n",
    "                      'Freedom to make life choices', 'Perceptions of corruption', 'Generosity']].copy()\n",
    "df_18.rename(columns = {'Country or region': \"country\", 'Overall rank': \"happiness rank\", \n",
    "                             'Score': \"happiness score\", 'GDP per capita': \"GDP\",\n",
    "                             'Healthy life expectancy': \"health - life expectancy\", 'Freedom to make life choices':\"freedom\",\n",
    "                             'Perceptions of corruption': \"trust (govt corruption)\", 'Generosity': \"generosity\"}, inplace=True)\n",
    "df_18"
   ]
  },
  {
   "cell_type": "code",
   "execution_count": null,
   "metadata": {},
   "outputs": [],
   "source": [
    "# Merge region_df on country for complete dataframe\n",
    "\n",
    "merge_18 = df_18.merge(region_df, on='country')\n",
    "\n",
    "\n",
    "# Create new dataframe and reindex columns\n",
    "\n",
    "column_names = ('country', 'region', 'happiness rank', 'happiness score', 'GDP',\n",
    "           'health - life expectancy', 'freedom', 'trust (govt corruption)',\n",
    "           'generosity')\n",
    "new_df_2018 = merge_18.reindex(columns=column_names)\n",
    "new_df_2018.head()"
   ]
  },
  {
   "cell_type": "code",
   "execution_count": null,
   "metadata": {},
   "outputs": [],
   "source": [
    "# Search for missing values\n",
    "\n",
    "new_df_2018.isnull().values.any()"
   ]
  },
  {
   "cell_type": "code",
   "execution_count": null,
   "metadata": {},
   "outputs": [],
   "source": [
    "# Look up and remove null values\n",
    "\n",
    "nan_values= new_df_2018[new_df_2018.isna().any(axis=1)]\n",
    "(print)nan_values\n",
    "\n",
    "clean_df_2018 = new_df_2018.dropna()\n",
    "clean_df_2018.head()"
   ]
  },
  {
   "cell_type": "code",
   "execution_count": null,
   "metadata": {},
   "outputs": [],
   "source": [
    "# Convert to .csv file\n",
    "\n",
    "clean_df_2018.to_csv('happy_2018.csv', index=False)"
   ]
  },
  {
   "cell_type": "markdown",
   "metadata": {},
   "source": [
    "##### 2019"
   ]
  },
  {
   "cell_type": "code",
   "execution_count": null,
   "metadata": {},
   "outputs": [],
   "source": [
    "# Save df to unique variable and create a new dataframe with select columns\n",
    "\n",
    "df_2019 = d['Resources/2019.csv']\n",
    "df_19 = df_2019[['Country or region', 'Overall rank', 'Score', 'GDP per capita', 'Healthy life expectancy',\n",
    "                      'Freedom to make life choices', 'Perceptions of corruption', 'Generosity']].copy()\n",
    "df_19.rename(columns = {'Country or region': \"country\", 'Overall rank': \"happiness rank\", \n",
    "                             'Score': \"happiness score\", 'GDP per capita': \"GDP\",\n",
    "                             'Healthy life expectancy': \"health - life expectancy\", 'Freedom to make life choices':\"freedom\",\n",
    "                             'Perceptions of corruption': \"trust (govt corruption)\", 'Generosity': \"generosity\"}, inplace=True)\n",
    "df_19"
   ]
  },
  {
   "cell_type": "code",
   "execution_count": null,
   "metadata": {},
   "outputs": [],
   "source": [
    "# Merge region_df on country for complete dataframe\n",
    "\n",
    "merge_19 = df_19.merge(region_df, on='country')\n",
    "\n",
    "# Create new dataframe and reindex columns\n",
    "\n",
    "column_names = ('country', 'region', 'happiness rank', 'happiness score', 'GDP',\n",
    "           'health - life expectancy', 'freedom', 'trust (govt corruption)',\n",
    "           'generosity')\n",
    "new_df_2019 = merge_19.reindex(columns=column_names)\n",
    "new_df_2019"
   ]
  },
  {
   "cell_type": "code",
   "execution_count": null,
   "metadata": {},
   "outputs": [],
   "source": [
    "# Search for missing values\n",
    "\n",
    "new_df_2019.isnull().values.any()"
   ]
  },
  {
   "cell_type": "code",
   "execution_count": null,
   "metadata": {},
   "outputs": [],
   "source": [
    "# Convert to .csv file\n",
    "new_df_2019.to_csv('happy_2019.csv', index=False)"
   ]
  },
  {
   "cell_type": "markdown",
   "metadata": {},
   "source": [
    "## Load\n",
    "\n",
    "After the raw data cleaning, we created three individual tables in PostgreSQL. The tables created are as follows:\n",
    "\n",
    "\"fifa\" Base Table\n",
    "    * Content Column_name [ id, rank, country_full, confederation, rank_date ] \n",
    "\n",
    "\"happinessYear\" Base Table\n",
    "    * Content Column_name [ country, region, happinessrank, happinessscore, gdp, health, freedom, trust, generosity, happiessyear ]\n",
    "\n",
    "\"happinessRegion\" Base Table\n",
    "    * Content Column_name [ country, region ]"
   ]
  },
  {
   "cell_type": "code",
   "execution_count": null,
   "metadata": {},
   "outputs": [],
   "source": []
  },
  {
   "cell_type": "code",
   "execution_count": null,
   "metadata": {},
   "outputs": [],
   "source": []
  },
  {
   "cell_type": "code",
   "execution_count": null,
   "metadata": {},
   "outputs": [],
   "source": []
  },
  {
   "cell_type": "code",
   "execution_count": null,
   "metadata": {},
   "outputs": [],
   "source": []
  },
  {
   "cell_type": "code",
   "execution_count": null,
   "metadata": {},
   "outputs": [],
   "source": []
  }
 ],
 "metadata": {
  "kernelspec": {
   "display_name": "Python 3",
   "language": "python",
   "name": "python3"
  },
  "language_info": {
   "codemirror_mode": {
    "name": "ipython",
    "version": 3
   },
   "file_extension": ".py",
   "mimetype": "text/x-python",
   "name": "python",
   "nbconvert_exporter": "python",
   "pygments_lexer": "ipython3",
   "version": "3.8.3"
  }
 },
 "nbformat": 4,
 "nbformat_minor": 4
}
